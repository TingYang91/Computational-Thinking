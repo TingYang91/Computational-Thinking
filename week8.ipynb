{
  "nbformat": 4,
  "nbformat_minor": 0,
  "metadata": {
    "colab": {
      "name": "week8.ipynb",
      "provenance": [],
      "collapsed_sections": [],
      "authorship_tag": "ABX9TyPAIjIKCkZvDBJl8tX1S9wf",
      "include_colab_link": true
    },
    "kernelspec": {
      "name": "python3",
      "display_name": "Python 3"
    }
  },
  "cells": [
    {
      "cell_type": "markdown",
      "metadata": {
        "id": "view-in-github",
        "colab_type": "text"
      },
      "source": [
        "<a href=\"https://colab.research.google.com/github/TingYang91/Computational-Thinking/blob/master/week8.ipynb\" target=\"_parent\"><img src=\"https://colab.research.google.com/assets/colab-badge.svg\" alt=\"Open In Colab\"/></a>"
      ]
    },
    {
      "cell_type": "code",
      "metadata": {
        "id": "P_ze25Jgt1UQ",
        "outputId": "1554cea9-a1c6-4e6f-b4e2-317a54c1af94",
        "colab": {
          "base_uri": "https://localhost:8080/"
        }
      },
      "source": [
        "cloth=int(input(\"enter the quantity of cloth\"))\n",
        "trousers=int(input(\"enter the quantity of trousers\"))\n",
        "vest=int(input(\"enter the quantity of vest\"))\n",
        "total=cloth*300+trousers*350+vest*400\n",
        "print(\"the total price of the clothes\",total)"
      ],
      "execution_count": 8,
      "outputs": [
        {
          "output_type": "stream",
          "text": [
            "enter the quantity of cloth5\n",
            "enter the quantity of trousers6\n",
            "enter the quantity of vest2\n",
            "the total price of the clothes 4400\n"
          ],
          "name": "stdout"
        }
      ]
    },
    {
      "cell_type": "code",
      "metadata": {
        "id": "FEzqgjNDt4gP",
        "outputId": "cc983048-3549-460d-e9d7-4bcff9838390",
        "colab": {
          "base_uri": "https://localhost:8080/"
        }
      },
      "source": [
        "cans=int(input(\"enter the quantity of cans you need\"))\n",
        "total=(cans//12)*200+(cans%12)*20\n",
        "print(\"cost\",total)"
      ],
      "execution_count": 10,
      "outputs": [
        {
          "output_type": "stream",
          "text": [
            "enter the quantity of cans you need34\n",
            "cost 600\n"
          ],
          "name": "stdout"
        }
      ]
    },
    {
      "cell_type": "code",
      "metadata": {
        "id": "b6TJX7oJxmcg",
        "outputId": "2bebb3e0-14ad-484e-b1ce-ff731f8bcacc",
        "colab": {
          "base_uri": "https://localhost:8080/"
        }
      },
      "source": [
        "fir=int(input(\"enter the grade of fist midterm exam\"))\n",
        "sec=int(input(\"enter the grade of seconf midterm exam\"))\n",
        "final=int(input(\"enter the grade of final exam\"))\n",
        "sum=fir+sec+final\n",
        "avg=sum/3\n",
        "print(\"sum\",sum,\"avg\",avg)"
      ],
      "execution_count": 14,
      "outputs": [
        {
          "output_type": "stream",
          "text": [
            "enter the grade of fist midterm exam68\n",
            "enter the grade of seconf midterm exam79\n",
            "enter the grade of final exam85\n",
            "sum 232 avg 77.33333333333333\n"
          ],
          "name": "stdout"
        }
      ]
    }
  ]
}