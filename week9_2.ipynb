{
  "nbformat": 4,
  "nbformat_minor": 0,
  "metadata": {
    "colab": {
      "name": "week9-2.ipynb",
      "provenance": [],
      "authorship_tag": "ABX9TyOrtSSe/klT/1iNyabJxB7j",
      "include_colab_link": true
    },
    "kernelspec": {
      "name": "python3",
      "display_name": "Python 3"
    }
  },
  "cells": [
    {
      "cell_type": "markdown",
      "metadata": {
        "id": "view-in-github",
        "colab_type": "text"
      },
      "source": [
        "<a href=\"https://colab.research.google.com/github/TingYang91/Computational-Thinking/blob/master/week9_2.ipynb\" target=\"_parent\"><img src=\"https://colab.research.google.com/assets/colab-badge.svg\" alt=\"Open In Colab\"/></a>"
      ]
    },
    {
      "cell_type": "markdown",
      "metadata": {
        "id": "3shu1E39aKqC"
      },
      "source": [
        "input()函數\n",
        "print()函數"
      ]
    },
    {
      "cell_type": "code",
      "metadata": {
        "id": "ypfMrA-BaeDo",
        "outputId": "7c43cb20-f2c0-45f6-952b-dffb76fe6739",
        "colab": {
          "base_uri": "https://localhost:8080/",
          "height": 52
        }
      },
      "source": [
        "input()"
      ],
      "execution_count": 8,
      "outputs": [
        {
          "output_type": "stream",
          "text": [
            "3\n"
          ],
          "name": "stdout"
        },
        {
          "output_type": "execute_result",
          "data": {
            "application/vnd.google.colaboratory.intrinsic+json": {
              "type": "string"
            },
            "text/plain": [
              "'3'"
            ]
          },
          "metadata": {
            "tags": []
          },
          "execution_count": 8
        }
      ]
    },
    {
      "cell_type": "code",
      "metadata": {
        "id": "69JtxDdIaw-R",
        "outputId": "65c004a6-745b-486b-9b8d-85afdedf4ec1",
        "colab": {
          "base_uri": "https://localhost:8080/",
          "height": 52
        }
      },
      "source": [
        "input(\"enter the number\")"
      ],
      "execution_count": 10,
      "outputs": [
        {
          "output_type": "stream",
          "text": [
            "enter the number3\n"
          ],
          "name": "stdout"
        },
        {
          "output_type": "execute_result",
          "data": {
            "application/vnd.google.colaboratory.intrinsic+json": {
              "type": "string"
            },
            "text/plain": [
              "'3'"
            ]
          },
          "metadata": {
            "tags": []
          },
          "execution_count": 10
        }
      ]
    },
    {
      "cell_type": "code",
      "metadata": {
        "id": "KYmyXStqZ-Cp",
        "outputId": "cdd4f646-79a7-40cf-8d45-5de84fbdeb2b",
        "colab": {
          "base_uri": "https://localhost:8080/"
        }
      },
      "source": [
        "x=input(\"enter the number\")"
      ],
      "execution_count": 9,
      "outputs": [
        {
          "output_type": "stream",
          "text": [
            "enter the number3\n"
          ],
          "name": "stdout"
        }
      ]
    },
    {
      "cell_type": "code",
      "metadata": {
        "id": "LH2L2B2pbww5",
        "outputId": "4363edae-1491-4d7e-8aa7-7636d408c27c",
        "colab": {
          "base_uri": "https://localhost:8080/",
          "height": 35
        }
      },
      "source": [
        "x"
      ],
      "execution_count": 13,
      "outputs": [
        {
          "output_type": "execute_result",
          "data": {
            "application/vnd.google.colaboratory.intrinsic+json": {
              "type": "string"
            },
            "text/plain": [
              "'3'"
            ]
          },
          "metadata": {
            "tags": []
          },
          "execution_count": 13
        }
      ]
    },
    {
      "cell_type": "code",
      "metadata": {
        "id": "COJaN1iKbc5J",
        "outputId": "64f2dc8b-81f4-4e99-8b81-14dc062a2475",
        "colab": {
          "base_uri": "https://localhost:8080/"
        }
      },
      "source": [
        "print(x)"
      ],
      "execution_count": 11,
      "outputs": [
        {
          "output_type": "stream",
          "text": [
            "3\n"
          ],
          "name": "stdout"
        }
      ]
    },
    {
      "cell_type": "code",
      "metadata": {
        "id": "y7iZRDtYbnwh",
        "outputId": "7210a193-e6d5-486f-fa9c-9b5079db2ddc",
        "colab": {
          "base_uri": "https://localhost:8080/"
        }
      },
      "source": [
        "print(x,2,\"Python\")"
      ],
      "execution_count": 12,
      "outputs": [
        {
          "output_type": "stream",
          "text": [
            "3 2 Python\n"
          ],
          "name": "stdout"
        }
      ]
    },
    {
      "cell_type": "code",
      "metadata": {
        "id": "QArakgxxdkvp",
        "outputId": "5b431b3a-7902-4e9b-be00-24a421108e1e",
        "colab": {
          "base_uri": "https://localhost:8080/"
        }
      },
      "source": [
        "x=input(\"enter the quantity of cloth\")"
      ],
      "execution_count": 16,
      "outputs": [
        {
          "output_type": "stream",
          "text": [
            "enter the quantity of cloth20\n"
          ],
          "name": "stdout"
        }
      ]
    },
    {
      "cell_type": "code",
      "metadata": {
        "id": "8B1dIzqoeRLq"
      },
      "source": [
        "x=int(x)"
      ],
      "execution_count": null,
      "outputs": []
    },
    {
      "cell_type": "code",
      "metadata": {
        "id": "Q5zr71bJd63I"
      },
      "source": [
        "Total=300*x\n"
      ],
      "execution_count": 20,
      "outputs": []
    },
    {
      "cell_type": "code",
      "metadata": {
        "id": "IM32Hu3PhuqM",
        "outputId": "dee48c2a-4a53-4a24-ae49-f678bea54914",
        "colab": {
          "base_uri": "https://localhost:8080/"
        }
      },
      "source": [
        "cloth=int(input(\"enter the quantity of cloth\"))\n",
        "trousers=int(input(\"enter the quantity of trousers\"))\n",
        "vest=int(input(\"enter the quantity of vest\"))\n",
        "total=cloth*300+trousers*350+vest*400\n",
        "print(\"the total price\",total)"
      ],
      "execution_count": 22,
      "outputs": [
        {
          "output_type": "stream",
          "text": [
            "enter the quantity of cloth5\n",
            "enter the quantity of trousers6\n",
            "enter the quantity of vest2\n",
            "the total price 4400\n"
          ],
          "name": "stdout"
        }
      ]
    },
    {
      "cell_type": "code",
      "metadata": {
        "id": "TYzK_2kOi1BV",
        "outputId": "84ed3656-0f18-4ab3-c7fd-c6afb80424f4",
        "colab": {
          "base_uri": "https://localhost:8080/"
        }
      },
      "source": [
        "cans=int(input(\"enter the quantity of cans you need\"))\n",
        "total=(cans//12)*200+(cans%12)*20\n",
        "print(\"cost\",total)\n"
      ],
      "execution_count": 27,
      "outputs": [
        {
          "output_type": "stream",
          "text": [
            "enter the quantity of cans you need45\n",
            "cost 780\n"
          ],
          "name": "stdout"
        }
      ]
    },
    {
      "cell_type": "code",
      "metadata": {
        "id": "qDXSBc9Dkawk",
        "outputId": "6b564220-897c-41cf-87b6-a05f41e76538",
        "colab": {
          "base_uri": "https://localhost:8080/"
        }
      },
      "source": [
        "fir=int(input(\"enter the grade of first midterm exam \"))\n",
        "sec=int(input(\"enter the grade of second midterm exam\"))\n",
        "final=int(input(\"enter the grade of final exam\"))\n",
        "sum=fir+sec+final\n",
        "avg=sum/3\n",
        "print(\"sun\",sum,\"avg\",avg)\n"
      ],
      "execution_count": 31,
      "outputs": [
        {
          "output_type": "stream",
          "text": [
            "enter the grade of first midterm exam 67\n",
            "enter the grade of second midterm exam78\n",
            "enter the grade of final exam85\n",
            "sun 230 avg 76.66666666666667\n"
          ],
          "name": "stdout"
        }
      ]
    }
  ]
}