{
  "nbformat": 4,
  "nbformat_minor": 0,
  "metadata": {
    "colab": {
      "name": "week10-1.ipynb",
      "provenance": [],
      "authorship_tag": "ABX9TyPbO/HuNXBbIvv0C9oUq/pN",
      "include_colab_link": true
    },
    "kernelspec": {
      "name": "python3",
      "display_name": "Python 3"
    }
  },
  "cells": [
    {
      "cell_type": "markdown",
      "metadata": {
        "id": "view-in-github",
        "colab_type": "text"
      },
      "source": [
        "<a href=\"https://colab.research.google.com/github/TingYang91/Computational-Thinking/blob/master/week10_1.ipynb\" target=\"_parent\"><img src=\"https://colab.research.google.com/assets/colab-badge.svg\" alt=\"Open In Colab\"/></a>"
      ]
    },
    {
      "cell_type": "code",
      "metadata": {
        "colab": {
          "base_uri": "https://localhost:8080/"
        },
        "id": "4ih_NLvxQ9jn",
        "outputId": "6f1e965c-ed71-4237-b7f8-6bb164af4fbc"
      },
      "source": [
        "movie_title=(\"money ball\")\n",
        "release_year=(\"2011\")\n",
        "movie_time_min=(\"133\")\n",
        "movie_director=(\"Bennett Miller\")\n",
        "theater=(\"Showtimes\")\n",
        "print(\"電影名稱\",movie_title)\n",
        "print(\"上映時間\",release_year)\n",
        "print(\"片長\",movie_time_min)\n",
        "print(\"導演\",movie_director)\n",
        "print(\"電影院\",theater)"
      ],
      "execution_count": 12,
      "outputs": [
        {
          "output_type": "stream",
          "text": [
            "電影名稱 money ball\n",
            "上映時間 2011\n",
            "片長 133\n",
            "導演 Bennett Miller\n",
            "電影院 Showtimes\n"
          ],
          "name": "stdout"
        }
      ]
    },
    {
      "cell_type": "code",
      "metadata": {
        "id": "ukEp-jBEdRdF"
      },
      "source": [
        ""
      ],
      "execution_count": null,
      "outputs": []
    }
  ]
}