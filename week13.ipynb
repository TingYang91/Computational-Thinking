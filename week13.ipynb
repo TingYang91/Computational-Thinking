{
  "nbformat": 4,
  "nbformat_minor": 0,
  "metadata": {
    "colab": {
      "name": "week13.ipynb",
      "provenance": [],
      "collapsed_sections": [],
      "authorship_tag": "ABX9TyOlpSi0dKnU8e686uoJcZkD",
      "include_colab_link": true
    },
    "kernelspec": {
      "name": "python3",
      "display_name": "Python 3"
    }
  },
  "cells": [
    {
      "cell_type": "markdown",
      "metadata": {
        "id": "view-in-github",
        "colab_type": "text"
      },
      "source": [
        "<a href=\"https://colab.research.google.com/github/TingYang91/Computational-Thinking/blob/master/week13.ipynb\" target=\"_parent\"><img src=\"https://colab.research.google.com/assets/colab-badge.svg\" alt=\"Open In Colab\"/></a>"
      ]
    },
    {
      "cell_type": "code",
      "metadata": {
        "colab": {
          "base_uri": "https://localhost:8080/"
        },
        "id": "VL8MsNnbkRGa",
        "outputId": "6d338f9f-8db0-4956-d823-7afc9e404f1c"
      },
      "source": [
        "#[100,97,94,91]\r\n",
        "for i in range(100,90,-3):\r\n",
        "  print(\"i\")"
      ],
      "execution_count": null,
      "outputs": [
        {
          "output_type": "stream",
          "text": [
            "i\n",
            "i\n",
            "i\n",
            "i\n"
          ],
          "name": "stdout"
        }
      ]
    },
    {
      "cell_type": "code",
      "metadata": {
        "colab": {
          "base_uri": "https://localhost:8080/"
        },
        "id": "r46PIMHEl6MJ",
        "outputId": "5be375ed-842b-4bf2-98f9-1a0bd4a73fc6"
      },
      "source": [
        "#印出五個Hallo\r\n",
        "for i in range(0,5,1):\r\n",
        "  print(\"Hallo\")"
      ],
      "execution_count": null,
      "outputs": [
        {
          "output_type": "stream",
          "text": [
            "Hallo\n",
            "Hallo\n",
            "Hallo\n",
            "Hallo\n",
            "Hallo\n"
          ],
          "name": "stdout"
        }
      ]
    },
    {
      "cell_type": "code",
      "metadata": {
        "id": "4v4KUb_Irvxj",
        "colab": {
          "base_uri": "https://localhost:8080/"
        },
        "outputId": "acba98d2-ca75-406d-98e6-3d17cf745cce"
      },
      "source": [
        "#數字1到10奇數之和\r\n",
        "## 1+3+5+7+9=?\r\n",
        "sum=0 #起始值\r\n",
        "for i in range(1,11,2): #數字串列[1,3,5,7,9]\r\n",
        "  sum = sum + i #加總運算,變更條件\r\n",
        "print(\"Total is\",sum)\r\n"
      ],
      "execution_count": 5,
      "outputs": [
        {
          "output_type": "stream",
          "text": [
            "Total is 25\n"
          ],
          "name": "stdout"
        }
      ]
    },
    {
      "cell_type": "code",
      "metadata": {
        "colab": {
          "base_uri": "https://localhost:8080/"
        },
        "id": "5ymW2yGbjDfA",
        "outputId": "262c73ba-e294-4764-9a08-31940d50ed0c"
      },
      "source": [
        "#2+4+6+8+10=?\r\n",
        "sum=0\r\n",
        "for i in range(2,11,2):\r\n",
        "  sum=sum+i\r\n",
        "print(\"Total is\",sum)"
      ],
      "execution_count": 6,
      "outputs": [
        {
          "output_type": "stream",
          "text": [
            "Total is 30\n"
          ],
          "name": "stdout"
        }
      ]
    },
    {
      "cell_type": "code",
      "metadata": {
        "colab": {
          "base_uri": "https://localhost:8080/"
        },
        "id": "o-sRYEEDjbi-",
        "outputId": "e40f17fc-eb2d-4d91-8af5-182f74737d27"
      },
      "source": [
        "#3到13之間，每隔三個數字之和\r\n",
        "sum=0\r\n",
        "for i in range(3,14,3):\r\n",
        "  sum=sum+i\r\n",
        "print(\"Total is\",sum)"
      ],
      "execution_count": 8,
      "outputs": [
        {
          "output_type": "stream",
          "text": [
            "Total is 30\n"
          ],
          "name": "stdout"
        }
      ]
    }
  ]
}