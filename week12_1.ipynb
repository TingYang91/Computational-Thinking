{
  "nbformat": 4,
  "nbformat_minor": 0,
  "metadata": {
    "colab": {
      "name": "week12.1.ipynb",
      "provenance": [],
      "authorship_tag": "ABX9TyPsXgctVPKrrPh4I58qyCge",
      "include_colab_link": true
    },
    "kernelspec": {
      "name": "python3",
      "display_name": "Python 3"
    }
  },
  "cells": [
    {
      "cell_type": "markdown",
      "metadata": {
        "id": "view-in-github",
        "colab_type": "text"
      },
      "source": [
        "<a href=\"https://colab.research.google.com/github/TingYang91/Computational-Thinking/blob/master/week12_1.ipynb\" target=\"_parent\"><img src=\"https://colab.research.google.com/assets/colab-badge.svg\" alt=\"Open In Colab\"/></a>"
      ]
    },
    {
      "cell_type": "code",
      "metadata": {
        "id": "aS-Rp0DxdKEA"
      },
      "source": [
        "隨堂練習1:購物清單\n",
        "試著用串列列出你最愛的五樣東西，當成購物清單(shopping-list)\n"
      ],
      "execution_count": null,
      "outputs": []
    },
    {
      "cell_type": "code",
      "metadata": {
        "colab": {
          "base_uri": "https://localhost:8080/"
        },
        "id": "zNXu6tNPd0FQ",
        "outputId": "5760eb0a-1ef9-475c-8b63-dbc5bb7112c4"
      },
      "source": [
        "shopping_list=[\"雞肉\",\"雞蛋\",\"草莓\",\"蛋糕\",\"烏龍茶\"]\n",
        "print(shopping_list)"
      ],
      "execution_count": 4,
      "outputs": [
        {
          "output_type": "stream",
          "text": [
            "['雞肉', '雞蛋', '草莓', '蛋糕', '烏龍茶']\n"
          ],
          "name": "stdout"
        }
      ]
    },
    {
      "cell_type": "code",
      "metadata": {
        "colab": {
          "base_uri": "https://localhost:8080/"
        },
        "id": "W4PZKT28f868",
        "outputId": "f82813df-a191-4537-c088-f682ce875591"
      },
      "source": [
        "list5=[\"雞肉\",\"雞蛋\",\"草莓\",\"蛋糕\",\"烏龍茶\"]\n",
        "print(list5)"
      ],
      "execution_count": 5,
      "outputs": [
        {
          "output_type": "stream",
          "text": [
            "['雞肉', '雞蛋', '草莓', '蛋糕', '烏龍茶']\n"
          ],
          "name": "stdout"
        }
      ]
    },
    {
      "cell_type": "code",
      "metadata": {
        "colab": {
          "base_uri": "https://localhost:8080/"
        },
        "id": "7HC8vzgpgvYE",
        "outputId": "0293ee3b-d593-4b49-bb17-cace59257f49"
      },
      "source": [
        "print(list5[0])"
      ],
      "execution_count": 6,
      "outputs": [
        {
          "output_type": "stream",
          "text": [
            "雞肉\n"
          ],
          "name": "stdout"
        }
      ]
    },
    {
      "cell_type": "code",
      "metadata": {
        "colab": {
          "base_uri": "https://localhost:8080/"
        },
        "id": "Njyj0F_Qg0b5",
        "outputId": "18e16b4d-bbe2-422a-b441-db9bea4fb9ca"
      },
      "source": [
        "list5[1]=\"牛肉\"\n",
        "print(list5)"
      ],
      "execution_count": 9,
      "outputs": [
        {
          "output_type": "stream",
          "text": [
            "['雞肉', '牛肉', '草莓', '蛋糕', '烏龍茶']\n"
          ],
          "name": "stdout"
        }
      ]
    },
    {
      "cell_type": "code",
      "metadata": {
        "colab": {
          "base_uri": "https://localhost:8080/"
        },
        "id": "y88WWVM-hRgD",
        "outputId": "9e12d5f5-2f01-4c17-d7be-2690d373d9df"
      },
      "source": [
        "print(list5[1:3])"
      ],
      "execution_count": 11,
      "outputs": [
        {
          "output_type": "stream",
          "text": [
            "['牛肉', '草莓']\n"
          ],
          "name": "stdout"
        }
      ]
    }
  ]
}