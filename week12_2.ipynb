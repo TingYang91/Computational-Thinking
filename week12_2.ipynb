{
  "nbformat": 4,
  "nbformat_minor": 0,
  "metadata": {
    "colab": {
      "name": "week12.2.ipynb",
      "provenance": [],
      "authorship_tag": "ABX9TyMu4JmtIDuUws2z5n/x8oFL",
      "include_colab_link": true
    },
    "kernelspec": {
      "name": "python3",
      "display_name": "Python 3"
    }
  },
  "cells": [
    {
      "cell_type": "markdown",
      "metadata": {
        "id": "view-in-github",
        "colab_type": "text"
      },
      "source": [
        "<a href=\"https://colab.research.google.com/github/TingYang91/Computational-Thinking/blob/master/week12_2.ipynb\" target=\"_parent\"><img src=\"https://colab.research.google.com/assets/colab-badge.svg\" alt=\"Open In Colab\"/></a>"
      ]
    },
    {
      "cell_type": "code",
      "metadata": {
        "id": "ubZYY9Bmijbg",
        "colab": {
          "base_uri": "https://localhost:8080/"
        },
        "outputId": "bac72177-6cdd-4ede-a47d-b20c1230a773"
      },
      "source": [
        "#NBA冠軍球隊的六筆資訊\n",
        "season=\"2019-2020\"\n",
        "team=\"Los Angeles Lakers\"\n",
        "coach=\"Frank Paul Vogel\"\n",
        "records=[4,2]\n",
        "starting=[\"Kostas Antetokounmpo\",\"Devontae Cacok\",\"Kentavious Caldwell-Pope\",\"Alex Caruso\",\"Anthony Davis\"]\n",
        "champion=True\n",
        "best_NBA=list((season,team,coach,records,starting,champion))\n",
        "print(best_NBA)\n"
      ],
      "execution_count": 6,
      "outputs": [
        {
          "output_type": "stream",
          "text": [
            "['2019-2020', 'Los Angeles Lakers', 'Frank Paul Vogel', [4, 2], ['Kostas Antetokounmpo', 'Devontae Cacok', 'Kentavious Caldwell-Pope', 'Alex Caruso', 'Anthony Davis'], True]\n"
          ],
          "name": "stdout"
        }
      ]
    },
    {
      "cell_type": "code",
      "metadata": {
        "colab": {
          "base_uri": "https://localhost:8080/"
        },
        "id": "ibVgCbhQr-Jo",
        "outputId": "dea7da1a-a3db-4d0a-f217-84e7e98cc9b7"
      },
      "source": [
        "print(best_NBA[4])"
      ],
      "execution_count": 9,
      "outputs": [
        {
          "output_type": "stream",
          "text": [
            "['Kostas Antetokounmpo', 'Devontae Cacok', 'Kentavious Caldwell-Pope', 'Alex Caruso', 'Anthony Davis']\n"
          ],
          "name": "stdout"
        }
      ]
    },
    {
      "cell_type": "code",
      "metadata": {
        "colab": {
          "base_uri": "https://localhost:8080/"
        },
        "id": "sYylqTm2qY3U",
        "outputId": "b43b244c-fcbd-4834-8f0b-1440acd323b3"
      },
      "source": [
        "print(best_NBA[-2])"
      ],
      "execution_count": 7,
      "outputs": [
        {
          "output_type": "stream",
          "text": [
            "['Kostas Antetokounmpo', 'Devontae Cacok', 'Kentavious Caldwell-Pope', 'Alex Caruso', 'Anthony Davis']\n"
          ],
          "name": "stdout"
        }
      ]
    },
    {
      "cell_type": "code",
      "metadata": {
        "colab": {
          "base_uri": "https://localhost:8080/"
        },
        "id": "LXVAc2BorpqA",
        "outputId": "53add553-e9d4-4f29-e738-9d3a9ad4daa3"
      },
      "source": [
        "print(best_NBA[1:4])"
      ],
      "execution_count": 8,
      "outputs": [
        {
          "output_type": "stream",
          "text": [
            "['Los Angeles Lakers', 'Frank Paul Vogel', [4, 2]]\n"
          ],
          "name": "stdout"
        }
      ]
    }
  ]
}