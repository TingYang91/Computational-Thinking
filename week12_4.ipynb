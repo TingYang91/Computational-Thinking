{
  "nbformat": 4,
  "nbformat_minor": 0,
  "metadata": {
    "colab": {
      "name": "week12.4.ipynb",
      "provenance": [],
      "authorship_tag": "ABX9TyOY8hfNcLmS1ynJGQ55jfTp",
      "include_colab_link": true
    },
    "kernelspec": {
      "name": "python3",
      "display_name": "Python 3"
    }
  },
  "cells": [
    {
      "cell_type": "markdown",
      "metadata": {
        "id": "view-in-github",
        "colab_type": "text"
      },
      "source": [
        "<a href=\"https://colab.research.google.com/github/TingYang91/Computational-Thinking/blob/master/week12_4.ipynb\" target=\"_parent\"><img src=\"https://colab.research.google.com/assets/colab-badge.svg\" alt=\"Open In Colab\"/></a>"
      ]
    },
    {
      "cell_type": "code",
      "metadata": {
        "colab": {
          "base_uri": "https://localhost:8080/"
        },
        "id": "pewuF_IEug7O",
        "outputId": "b75f6bb0-c51d-4385-b90d-539c327b3961"
      },
      "source": [
        "#[0,1,2,3,4,5,6,7,8,9]\n",
        "a=range(10)\n",
        "print(a)\n",
        "print(a[0],a[1],a[2],a[3],a[4],a[5],a[6],a[7],a[8],a[9])"
      ],
      "execution_count": null,
      "outputs": [
        {
          "output_type": "stream",
          "text": [
            "range(0, 10)\n",
            "0 1 2 3 4 5 6 7 8 9\n"
          ],
          "name": "stdout"
        }
      ]
    },
    {
      "cell_type": "code",
      "metadata": {
        "colab": {
          "base_uri": "https://localhost:8080/"
        },
        "id": "79_SWBh72aN5",
        "outputId": "88738240-ffec-4314-da89-db84ceddf53a"
      },
      "source": [
        "#[0,2,4,6,8]\n",
        "b=range(0,9,2)\n",
        "print(b[0],b[1],b[2],b[3],b[4])\n"
      ],
      "execution_count": 3,
      "outputs": [
        {
          "output_type": "stream",
          "text": [
            "0 2 4 6 8\n"
          ],
          "name": "stdout"
        }
      ]
    },
    {
      "cell_type": "code",
      "metadata": {
        "colab": {
          "base_uri": "https://localhost:8080/"
        },
        "id": "RyeDdS3f5jcD",
        "outputId": "71ddc19d-d367-467a-baf2-0d0e9f277bb5"
      },
      "source": [
        "#5,7,9\n",
        "c=range(5,10,2)\n",
        "print(c[0],c[1],c[2])\n"
      ],
      "execution_count": 5,
      "outputs": [
        {
          "output_type": "stream",
          "text": [
            "5 7 9\n"
          ],
          "name": "stdout"
        }
      ]
    },
    {
      "cell_type": "code",
      "metadata": {
        "colab": {
          "base_uri": "https://localhost:8080/"
        },
        "id": "1Kr1Enbc5yma",
        "outputId": "9733a8b3-7c6a-48f5-ae50-f584a2f2adbc"
      },
      "source": [
        "#0,-1,-2,-3,-4,-5,-6,-7,-8,-9\n",
        "d=range(0,-10,-1)\n",
        "print(d[0],d[1],d[2],d[3],d[4],d[5],d[6],d[7],d[8],d[9])"
      ],
      "execution_count": 8,
      "outputs": [
        {
          "output_type": "stream",
          "text": [
            "0 -1 -2 -3 -4 -5 -6 -7 -8 -9\n"
          ],
          "name": "stdout"
        }
      ]
    },
    {
      "cell_type": "code",
      "metadata": {
        "id": "WQqYjpgc6USh"
      },
      "source": [
        ""
      ],
      "execution_count": null,
      "outputs": []
    }
  ]
}