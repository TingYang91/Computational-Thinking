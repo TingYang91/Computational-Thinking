{
  "nbformat": 4,
  "nbformat_minor": 0,
  "metadata": {
    "colab": {
      "name": "week12.3.ipynb",
      "provenance": [],
      "authorship_tag": "ABX9TyPIjsorDCkeS4C2rU1nkPWG",
      "include_colab_link": true
    },
    "kernelspec": {
      "name": "python3",
      "display_name": "Python 3"
    }
  },
  "cells": [
    {
      "cell_type": "markdown",
      "metadata": {
        "id": "view-in-github",
        "colab_type": "text"
      },
      "source": [
        "<a href=\"https://colab.research.google.com/github/TingYang91/Computational-Thinking/blob/master/week12_3.ipynb\" target=\"_parent\"><img src=\"https://colab.research.google.com/assets/colab-badge.svg\" alt=\"Open In Colab\"/></a>"
      ]
    },
    {
      "cell_type": "code",
      "metadata": {
        "colab": {
          "base_uri": "https://localhost:8080/"
        },
        "id": "kxwVFbRBsWlz",
        "outputId": "3e39aa69-c183-4c94-8471-ac2a0cf69475"
      },
      "source": [
        "#range指令練習\n",
        "#[0,1,2,3,4,]\n",
        "a=range(5)\n",
        "print(a)\n",
        "print(a[0],a[1],a[2],a[3],a[4])"
      ],
      "execution_count": 3,
      "outputs": [
        {
          "output_type": "stream",
          "text": [
            "range(0, 5)\n",
            "0 1 2 3 4\n"
          ],
          "name": "stdout"
        }
      ]
    },
    {
      "cell_type": "code",
      "metadata": {
        "colab": {
          "base_uri": "https://localhost:8080/"
        },
        "id": "OKGcZjlJtXSb",
        "outputId": "6d464d85-88f2-46b1-d7d5-4c763da5cfce"
      },
      "source": [
        "[2,3,4,5]\n",
        "b=range(2,6)\n",
        "print(b[0],b[1],b[2],b[3])"
      ],
      "execution_count": 4,
      "outputs": [
        {
          "output_type": "stream",
          "text": [
            "2 3 4 5\n"
          ],
          "name": "stdout"
        }
      ]
    },
    {
      "cell_type": "code",
      "metadata": {
        "colab": {
          "base_uri": "https://localhost:8080/"
        },
        "id": "WyBMdbLvtz3g",
        "outputId": "5af431cb-3404-486b-cb88-2c8d7014dfc4"
      },
      "source": [
        "[2,5,8]\n",
        "c=range(2,10,3)\n",
        "print(c[0],c[1],c[2])"
      ],
      "execution_count": 5,
      "outputs": [
        {
          "output_type": "stream",
          "text": [
            "2 5 8\n"
          ],
          "name": "stdout"
        }
      ]
    }
  ]
}