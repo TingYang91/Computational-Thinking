{
  "nbformat": 4,
  "nbformat_minor": 0,
  "metadata": {
    "colab": {
      "name": "week11-2.ipynb",
      "provenance": [],
      "authorship_tag": "ABX9TyNk1S3lR+ROX8e8Nv+9Gsby",
      "include_colab_link": true
    },
    "kernelspec": {
      "name": "python3",
      "display_name": "Python 3"
    }
  },
  "cells": [
    {
      "cell_type": "markdown",
      "metadata": {
        "id": "view-in-github",
        "colab_type": "text"
      },
      "source": [
        "<a href=\"https://colab.research.google.com/github/TingYang91/Computational-Thinking/blob/master/week11_2.ipynb\" target=\"_parent\"><img src=\"https://colab.research.google.com/assets/colab-badge.svg\" alt=\"Open In Colab\"/></a>"
      ]
    },
    {
      "cell_type": "code",
      "metadata": {
        "id": "p-6FxMusZ7qX"
      },
      "source": [
        ""
      ],
      "execution_count": null,
      "outputs": []
    },
    {
      "cell_type": "markdown",
      "metadata": {
        "id": "XdsRiuvyaWdS"
      },
      "source": [
        "分組"
      ]
    },
    {
      "cell_type": "markdown",
      "metadata": {
        "id": "ITVWDBcqcK3Y"
      },
      "source": [
        ""
      ]
    },
    {
      "cell_type": "code",
      "metadata": {
        "colab": {
          "base_uri": "https://localhost:8080/"
        },
        "id": "kSllmNhJarJ3",
        "outputId": "d62e9108-36f5-47f0-fdf0-3018243111ee"
      },
      "source": [
        "# 商數餘數\n",
        "## Input\n",
        "seat=int(input(\"Enter a seat number?\"))\n",
        "## Process\n",
        "group=(seat-1)//5+1\n",
        "## Output\n",
        "print(\"Group is\",group)"
      ],
      "execution_count": 4,
      "outputs": [
        {
          "output_type": "stream",
          "text": [
            "Enter a seat number?40\n",
            "Group is 8\n"
          ],
          "name": "stdout"
        }
      ]
    },
    {
      "cell_type": "code",
      "metadata": {
        "colab": {
          "base_uri": "https://localhost:8080/"
        },
        "id": "tIp2K_4fcxqm",
        "outputId": "9046d8b4-f264-40e3-86df-4bbe19e8a741"
      },
      "source": [
        "#四捨五入 無條件進位\n",
        "## Input\n",
        "seat=int(input(\"Enter a seat number?\"))\n",
        "## Process\n",
        "import math\n",
        "group=math.ceil(seat/5)\n",
        "## Output\n",
        "print(\"Group is\",group)"
      ],
      "execution_count": 5,
      "outputs": [
        {
          "output_type": "stream",
          "text": [
            "Enter a seat number?23\n",
            "Group is 5\n"
          ],
          "name": "stdout"
        }
      ]
    },
    {
      "cell_type": "code",
      "metadata": {
        "colab": {
          "base_uri": "https://localhost:8080/"
        },
        "id": "nuNvxy9EeRwf",
        "outputId": "b2fc17b2-709e-46eb-f50b-48666632c3e2"
      },
      "source": [
        "#方法(三):看餘數,用條件句\n",
        "number=int(input(\"Enter a number?\"))\n",
        "if number%5==0:\n",
        "   print(\"Group is\",number//5)\n",
        "else:\n",
        "   print(\"Group is\",number//5+1)"
      ],
      "execution_count": 6,
      "outputs": [
        {
          "output_type": "stream",
          "text": [
            "Enter a number?21\n",
            "Group is 5\n"
          ],
          "name": "stdout"
        }
      ]
    }
  ]
}