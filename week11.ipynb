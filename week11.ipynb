{
  "nbformat": 4,
  "nbformat_minor": 0,
  "metadata": {
    "colab": {
      "name": "week11.ipynb",
      "provenance": [],
      "authorship_tag": "ABX9TyNaK50GEGDn06ELQVO4C9kO",
      "include_colab_link": true
    },
    "kernelspec": {
      "name": "python3",
      "display_name": "Python 3"
    }
  },
  "cells": [
    {
      "cell_type": "markdown",
      "metadata": {
        "id": "view-in-github",
        "colab_type": "text"
      },
      "source": [
        "<a href=\"https://colab.research.google.com/github/TingYang91/Computational-Thinking/blob/master/week11.ipynb\" target=\"_parent\"><img src=\"https://colab.research.google.com/assets/colab-badge.svg\" alt=\"Open In Colab\"/></a>"
      ]
    },
    {
      "cell_type": "code",
      "metadata": {
        "id": "2BKeuOFOqDBM"
      },
      "source": [
        ""
      ],
      "execution_count": null,
      "outputs": []
    },
    {
      "cell_type": "code",
      "metadata": {
        "colab": {
          "base_uri": "https://localhost:8080/"
        },
        "id": "uC-AqsK4qIP6",
        "outputId": "5133be95-a0da-4603-b892-ec3ff5fc7104"
      },
      "source": [
        "print(\"哈囉，大家好。我叫zyxo64，是一個聊天機器人。\")\n",
        "hobby=\"我很喜歡美食東西，也喜歡養動物。今天很高興有機會來到世新大學，請大家多多指教\"\n",
        "print(hobby)\n"
      ],
      "execution_count": 1,
      "outputs": [
        {
          "output_type": "stream",
          "text": [
            "哈囉，大家好。我叫zyxo64，是一個聊天機器人。\n",
            "我很喜歡美食東西，也喜歡養動物。今天很高興有機會來到世新大學，請大家多多指教\n"
          ],
          "name": "stdout"
        }
      ]
    },
    {
      "cell_type": "code",
      "metadata": {
        "colab": {
          "base_uri": "https://localhost:8080/"
        },
        "id": "kUbPIMERscCn",
        "outputId": "da689b04-820a-4c7a-856e-30c1cb042175"
      },
      "source": [
        "name=input(\"嗨!你好，請問大名?:\")\n",
        "print(\"我叫\",name)\n",
        "print(\"你好\",name,\"很高慶認識你\")"
      ],
      "execution_count": 5,
      "outputs": [
        {
          "output_type": "stream",
          "text": [
            "嗨!你好，請問大名?:楊雅婷\n",
            "我叫 楊雅婷\n",
            "你好 楊雅婷 很高慶認識你\n"
          ],
          "name": "stdout"
        }
      ]
    },
    {
      "cell_type": "code",
      "metadata": {
        "colab": {
          "base_uri": "https://localhost:8080/"
        },
        "id": "hhX7NLNNtMBG",
        "outputId": "3f20a607-c6ed-4ea6-8eb5-ebd242b4cffe"
      },
      "source": [
        "year=input(\"請問一下今年是西元2020年，那是民國幾年呢?\")\n",
        "print(\"對!應該沒錯，謝謝你!\")"
      ],
      "execution_count": 7,
      "outputs": [
        {
          "output_type": "stream",
          "text": [
            "請問一下今年是西元2020年，那是民國幾年呢?109\n",
            "對!應該沒錯，謝謝你!\n"
          ],
          "name": "stdout"
        }
      ]
    },
    {
      "cell_type": "code",
      "metadata": {
        "colab": {
          "base_uri": "https://localhost:8080/"
        },
        "id": "5lYv7hrxt99h",
        "outputId": "56cb883c-6a34-4c9b-ad25-595b563e4c1d"
      },
      "source": [
        "myage=int(input(\"在猜猜看我今年幾歲?\"))\n",
        "print(\"哇!你好聰明，我今年的確\",myage)"
      ],
      "execution_count": 9,
      "outputs": [
        {
          "output_type": "stream",
          "text": [
            "在猜猜看我今年幾歲?20\n",
            "哇!你好聰明，我今年的確 20\n"
          ],
          "name": "stdout"
        }
      ]
    },
    {
      "cell_type": "code",
      "metadata": {
        "colab": {
          "base_uri": "https://localhost:8080/"
        },
        "id": "BjJ33uBTueYF",
        "outputId": "b8386d7d-731d-4a5e-f78f-44b4a4d2109d"
      },
      "source": [
        "nyears=100-myage\n",
        "print(\"我再\",nyears,\"年就滿100歲了。\")\n",
        "print(\"到時候是西元\",int(year)+nyears+1911,\"年\")"
      ],
      "execution_count": 10,
      "outputs": [
        {
          "output_type": "stream",
          "text": [
            "我再 80 年就滿100歲了。\n",
            "到時候是西元 2100 年\n"
          ],
          "name": "stdout"
        }
      ]
    },
    {
      "cell_type": "code",
      "metadata": {
        "colab": {
          "base_uri": "https://localhost:8080/"
        },
        "id": "fTceFbUBvB2w",
        "outputId": "dd8c3bcf-010b-48f2-a2b9-02f47c3f0ef7"
      },
      "source": [
        "print(\"我喜歡巧克力,也喜歡嘗試各種新食物。\")\n",
        "food = input(\"你呢。你最喜歡的食物是什麼?: \")\n",
        "print(\"我也喜歡\", food)\n",
        "question = \"你多久吃一次\" + food + \"?: \"\n",
        "howoften = input(question)\n",
        "print(\"真有趣。不知道這樣對健康好不好!\")"
      ],
      "execution_count": 11,
      "outputs": [
        {
          "output_type": "stream",
          "text": [
            "我喜歡巧克力,也喜歡嘗試各種新食物。\n",
            "你呢。你最喜歡的食物是什麼?: 壽司\n",
            "我也喜歡 壽司\n",
            "你多久吃一次壽司?: 一周一次\n",
            "真有趣。不知道這樣對健康好不好!\n"
          ],
          "name": "stdout"
        }
      ]
    },
    {
      "cell_type": "code",
      "metadata": {
        "colab": {
          "base_uri": "https://localhost:8080/"
        },
        "id": "6-AMdIbvv9YM",
        "outputId": "0661d4f2-5ba6-469b-c8fb-c68c2ca72c87"
      },
      "source": [
        "animal = input(\"我最喜歡的動物是長頸鹿。你呢?; \")\n",
        "print(\"我不喜歡\",animal)\n",
        "print(\"不知道\", animal, \"喜不喜歡吃\", food, \"?\")"
      ],
      "execution_count": 14,
      "outputs": [
        {
          "output_type": "stream",
          "text": [
            "我最喜歡的動物是長頸鹿。你呢?; 狗\n",
            "我不喜歡 狗\n",
            "不知道 狗 喜不喜歡吃 壽司 ?\n"
          ],
          "name": "stdout"
        }
      ]
    },
    {
      "cell_type": "code",
      "metadata": {
        "colab": {
          "base_uri": "https://localhost:8080/"
        },
        "id": "dHSNsTz5wJGo",
        "outputId": "a5698cd4-3a62-469d-9067-44bb9841ad76"
      },
      "source": [
        "feeling = input(\"你今天心情如何?; \")\n",
        "print(\"告訴我你現在\", feeling, \"的原因。 \")\n",
        "reason = input(\"為什麼: \")\n",
        "print(\"我知道了。謝謝分享。\")\n"
      ],
      "execution_count": 15,
      "outputs": [
        {
          "output_type": "stream",
          "text": [
            "你今天心情如何?; 不錯\n",
            "告訴我你現在 不錯 的原因。 \n",
            "為什麼: 周末\n",
            "我知道了。謝謝分享。\n"
          ],
          "name": "stdout"
        }
      ]
    },
    {
      "cell_type": "code",
      "metadata": {
        "colab": {
          "base_uri": "https://localhost:8080/"
        },
        "id": "XzHfpQffwRFE",
        "outputId": "98ffbc32-41b4-45a4-c006-ea69aad3f050"
      },
      "source": [
        "print(\"今天事情真多!我累了,下次再聊。\")\n",
        "print(\"再見\", name, \"我喜歡跟你聊天!\")\n"
      ],
      "execution_count": 16,
      "outputs": [
        {
          "output_type": "stream",
          "text": [
            "今天事情真多!我累了,下次再聊。\n",
            "再見 楊雅婷 我喜歡跟你聊天!\n"
          ],
          "name": "stdout"
        }
      ]
    },
    {
      "cell_type": "markdown",
      "metadata": {
        "id": "ntjjLPpGuLzS"
      },
      "source": [
        ""
      ]
    }
  ]
}